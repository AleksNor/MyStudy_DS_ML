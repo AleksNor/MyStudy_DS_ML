{
 "cells": [
  {
   "cell_type": "markdown",
   "id": "6d6010da",
   "metadata": {},
   "source": [
    "# How to complete this assignment\n",
    "First, download [this Kaggle dataset](https://www.kaggle.com/hugomathien/soccer) and extract *sqlite* database. You may need to register at https://www.kaggle.com/ beforehand. Then complete 15 graded tasks below, the score is given in brackets. Finally submit the resulting `.ipynb` file to rs-app Auto-test.\n",
    "\n",
    "- Do not delete or rename the variables given before the inscription `#your code here`, they are needed for the correct verification.\n",
    "- Do not change the code in the last Notebook cell, it is required for the server check.\n",
    "- Your Notebook must run completely without errors to be graded! Please check everything before submission by going *Cell -> Run All*"
   ]
  },
  {
   "cell_type": "markdown",
   "id": "0dbd5f9a",
   "metadata": {},
   "source": [
    "## Some important notes\n",
    "- If you need to **calculate the number of \"something\"** that means we expect you to assign an Integer to the given variable\n",
    "- If you need to **make a list of \"something\"** we expect you to assign a Python list with appropriate values to the given variable\n",
    "- If you need to find a **specifiс player, day of the week, team, etc.** we expect you to assign a String with the full name of the entity to the given variable (`player_name`, day of week full name, `team_name`, etc.)"
   ]
  },
  {
   "cell_type": "code",
   "execution_count": 1,
   "id": "f52b1bac",
   "metadata": {},
   "outputs": [],
   "source": [
    "import sqlite3\n",
    "import pandas as pd\n",
    "import os\n",
    "\n",
    "pd.set_option('display.max_column', None)"
   ]
  },
  {
   "cell_type": "code",
   "execution_count": 2,
   "id": "8ebe6afd",
   "metadata": {},
   "outputs": [],
   "source": [
    "# Leave that code unchanged, it is required for the server check!\n",
    "db = sqlite3.connect(os.environ.get(\"DB_PATH\") or 'database.sqlite')"
   ]
  },
  {
   "cell_type": "code",
   "execution_count": 3,
   "id": "9860d0d0",
   "metadata": {},
   "outputs": [],
   "source": [
    "# You may load the data from SQL table directly to the Pandas dataframe as\n",
    "player_data = pd.read_sql(\"SELECT * FROM Player;\", db)\n",
    "player_stats_data = pd.read_sql(\"SELECT * FROM Player_Attributes;\", db)\n",
    "team_data = pd.read_sql(\"SELECT * FROM Team;\", db)\n",
    "match_data = pd.read_sql(\"SELECT * FROM Match;\", db)\n",
    "league_data = pd.read_sql(\"SELECT * FROM LEAGUE\", db)"
   ]
  },
  {
   "cell_type": "code",
   "execution_count": 4,
   "id": "7e69a7af",
   "metadata": {},
   "outputs": [
    {
     "data": {
      "text/html": [
       "<div>\n",
       "<style scoped>\n",
       "    .dataframe tbody tr th:only-of-type {\n",
       "        vertical-align: middle;\n",
       "    }\n",
       "\n",
       "    .dataframe tbody tr th {\n",
       "        vertical-align: top;\n",
       "    }\n",
       "\n",
       "    .dataframe thead th {\n",
       "        text-align: right;\n",
       "    }\n",
       "</style>\n",
       "<table border=\"1\" class=\"dataframe\">\n",
       "  <thead>\n",
       "    <tr style=\"text-align: right;\">\n",
       "      <th></th>\n",
       "      <th>id</th>\n",
       "      <th>player_api_id</th>\n",
       "      <th>player_name</th>\n",
       "      <th>player_fifa_api_id</th>\n",
       "      <th>birthday</th>\n",
       "      <th>height</th>\n",
       "      <th>weight</th>\n",
       "    </tr>\n",
       "  </thead>\n",
       "  <tbody>\n",
       "    <tr>\n",
       "      <th>0</th>\n",
       "      <td>1</td>\n",
       "      <td>505942</td>\n",
       "      <td>Aaron Appindangoye</td>\n",
       "      <td>218353</td>\n",
       "      <td>1992-02-29 00:00:00</td>\n",
       "      <td>182.88</td>\n",
       "      <td>187</td>\n",
       "    </tr>\n",
       "    <tr>\n",
       "      <th>1</th>\n",
       "      <td>2</td>\n",
       "      <td>155782</td>\n",
       "      <td>Aaron Cresswell</td>\n",
       "      <td>189615</td>\n",
       "      <td>1989-12-15 00:00:00</td>\n",
       "      <td>170.18</td>\n",
       "      <td>146</td>\n",
       "    </tr>\n",
       "    <tr>\n",
       "      <th>2</th>\n",
       "      <td>3</td>\n",
       "      <td>162549</td>\n",
       "      <td>Aaron Doran</td>\n",
       "      <td>186170</td>\n",
       "      <td>1991-05-13 00:00:00</td>\n",
       "      <td>170.18</td>\n",
       "      <td>163</td>\n",
       "    </tr>\n",
       "    <tr>\n",
       "      <th>3</th>\n",
       "      <td>4</td>\n",
       "      <td>30572</td>\n",
       "      <td>Aaron Galindo</td>\n",
       "      <td>140161</td>\n",
       "      <td>1982-05-08 00:00:00</td>\n",
       "      <td>182.88</td>\n",
       "      <td>198</td>\n",
       "    </tr>\n",
       "    <tr>\n",
       "      <th>4</th>\n",
       "      <td>5</td>\n",
       "      <td>23780</td>\n",
       "      <td>Aaron Hughes</td>\n",
       "      <td>17725</td>\n",
       "      <td>1979-11-08 00:00:00</td>\n",
       "      <td>182.88</td>\n",
       "      <td>154</td>\n",
       "    </tr>\n",
       "  </tbody>\n",
       "</table>\n",
       "</div>"
      ],
      "text/plain": [
       "   id  player_api_id         player_name  player_fifa_api_id  \\\n",
       "0   1         505942  Aaron Appindangoye              218353   \n",
       "1   2         155782     Aaron Cresswell              189615   \n",
       "2   3         162549         Aaron Doran              186170   \n",
       "3   4          30572       Aaron Galindo              140161   \n",
       "4   5          23780        Aaron Hughes               17725   \n",
       "\n",
       "              birthday  height  weight  \n",
       "0  1992-02-29 00:00:00  182.88     187  \n",
       "1  1989-12-15 00:00:00  170.18     146  \n",
       "2  1991-05-13 00:00:00  170.18     163  \n",
       "3  1982-05-08 00:00:00  182.88     198  \n",
       "4  1979-11-08 00:00:00  182.88     154  "
      ]
     },
     "execution_count": 4,
     "metadata": {},
     "output_type": "execute_result"
    }
   ],
   "source": [
    "player_data.head()"
   ]
  },
  {
   "cell_type": "markdown",
   "id": "f8b23f3a",
   "metadata": {},
   "source": [
    "**Task 1 (0.25 point).** Calculate the number of players with a height between 180 and 190 inclusive"
   ]
  },
  {
   "cell_type": "code",
   "execution_count": 5,
   "id": "7cd6f780",
   "metadata": {},
   "outputs": [
    {
     "data": {
      "text/plain": [
       "5925"
      ]
     },
     "execution_count": 5,
     "metadata": {},
     "output_type": "execute_result"
    }
   ],
   "source": [
    "players_180_190 = player_data[(player_data['height'] >= 180)&(player_data['height'] <= 190)].shape[0]\n",
    "players_180_190# Your code here"
   ]
  },
  {
   "cell_type": "code",
   "execution_count": 6,
   "id": "9d058065",
   "metadata": {},
   "outputs": [],
   "source": [
    "assert(isinstance(players_180_190, int))"
   ]
  },
  {
   "cell_type": "markdown",
   "id": "5a39f3bc",
   "metadata": {},
   "source": [
    "**Task 2 (0.25 point).** Calculate the number of players born in 1980. <br>\n",
    "**Hint:** you may want to cast your 'birthday' column to DateTime type by [pandas.to_datetime](https://pandas.pydata.org/docs/reference/api/pandas.to_datetime.html)"
   ]
  },
  {
   "cell_type": "code",
   "execution_count": 7,
   "id": "ff21f7a2",
   "metadata": {},
   "outputs": [
    {
     "data": {
      "text/plain": [
       "434"
      ]
     },
     "execution_count": 7,
     "metadata": {},
     "output_type": "execute_result"
    }
   ],
   "source": [
    "player_data['birthday'] = pd.to_datetime(player_data['birthday'])\n",
    "players_1980 = player_data[player_data['birthday'].dt.year == 1980].shape[0]\n",
    "players_1980# Your code here"
   ]
  },
  {
   "cell_type": "code",
   "execution_count": 8,
   "id": "e53cc066",
   "metadata": {},
   "outputs": [],
   "source": [
    "assert(isinstance(players_1980, int))"
   ]
  },
  {
   "cell_type": "markdown",
   "id": "70d1dea0",
   "metadata": {},
   "source": [
    "**Task 3 (0.25 point).** Make a list of the top 10 players with the highest weight sorted in descending order. If there are several players with the same weight put them in the lexicographic order by name."
   ]
  },
  {
   "cell_type": "code",
   "execution_count": 9,
   "id": "b0dbdaf5",
   "metadata": {},
   "outputs": [
    {
     "data": {
      "text/plain": [
       "['Kristof van Hout',\n",
       " 'Tim Wiese',\n",
       " 'Jeroen Verhoeven',\n",
       " 'Ishmael Miller',\n",
       " 'Cassio',\n",
       " 'Christopher Samba',\n",
       " 'Lars Unnerstall',\n",
       " 'Marcus Hahnemann',\n",
       " 'Abdoulaye Faye',\n",
       " 'Enoch Showunmi']"
      ]
     },
     "execution_count": 9,
     "metadata": {},
     "output_type": "execute_result"
    }
   ],
   "source": [
    "highest_players = player_data.sort_values(by=['weight', 'player_name'], ascending = [False, True])[:10]['player_name'].tolist()\n",
    "highest_players# Your code here"
   ]
  },
  {
   "cell_type": "code",
   "execution_count": 10,
   "id": "40dabe0d",
   "metadata": {},
   "outputs": [],
   "source": [
    "assert(len(highest_players) == 10)\n",
    "assert(isinstance(highest_players, list))\n",
    "for i in range(10):\n",
    "    assert(isinstance(highest_players[i], str))"
   ]
  },
  {
   "cell_type": "markdown",
   "id": "ff30607f",
   "metadata": {},
   "source": [
    "**Task 4 (0.5 point).** Make a list of tuples containing years along with the number of players born in that year from 1980 up to 1990. <br>\n",
    "**Structure example**: [(1980, 123), (1981, 140) ..., (1990, 83)] -> There were born 123 players in 1980, there were born 140 players in 1981 and etc."
   ]
  },
  {
   "cell_type": "code",
   "execution_count": 11,
   "id": "9b609f1c",
   "metadata": {},
   "outputs": [
    {
     "data": {
      "text/plain": [
       "[(1980, 434),\n",
       " (1981, 475),\n",
       " (1982, 487),\n",
       " (1983, 541),\n",
       " (1984, 607),\n",
       " (1985, 593),\n",
       " (1986, 710),\n",
       " (1987, 722),\n",
       " (1988, 802),\n",
       " (1989, 723),\n",
       " (1990, 696)]"
      ]
     },
     "execution_count": 11,
     "metadata": {},
     "output_type": "execute_result"
    }
   ],
   "source": [
    "player_data['birthday_year'] = player_data['birthday'].dt.year\n",
    "born_years = player_data.groupby('birthday_year').size().loc[lambda x: ( 1980 <= x.index)&(x.index <= 1990)]\n",
    "years_born_players = list(born_years.items())\n",
    "years_born_players# Your code here"
   ]
  },
  {
   "cell_type": "code",
   "execution_count": 12,
   "id": "64cbf754",
   "metadata": {},
   "outputs": [],
   "source": [
    "assert(len(years_born_players) == 11)\n",
    "assert(isinstance(years_born_players, list))\n",
    "for i in range(10):\n",
    "    assert(isinstance(years_born_players[i], tuple))\n",
    "    assert(isinstance(years_born_players[i][0], int))\n",
    "    assert(isinstance(years_born_players[i][1], int))"
   ]
  },
  {
   "cell_type": "markdown",
   "id": "33cbd931",
   "metadata": {},
   "source": [
    "**Task 5 (0.5 point).** Calculate the mean and the standard deviation of the players' **height** with the name **Adriano**. <br>\n",
    "**Note:** Name is represented by the first part of `player_name`."
   ]
  },
  {
   "cell_type": "code",
   "execution_count": 13,
   "id": "614fac31",
   "metadata": {},
   "outputs": [
    {
     "data": {
      "text/plain": [
       "(182.11800000000002, 5.361479480723788)"
      ]
     },
     "execution_count": 13,
     "metadata": {},
     "output_type": "execute_result"
    }
   ],
   "source": [
    "mask = player_data['player_name'].str.startswith('Adriano')\n",
    "adriano_mean, adriano_std = player_data[mask]['height'].mean(), player_data[mask]['height'].std()\n",
    "(adriano_mean, adriano_std)# Your code here"
   ]
  },
  {
   "cell_type": "code",
   "execution_count": 14,
   "id": "f508c49f",
   "metadata": {},
   "outputs": [],
   "source": [
    "assert(isinstance(adriano_mean, float))\n",
    "assert(isinstance(adriano_std, float))"
   ]
  },
  {
   "cell_type": "markdown",
   "id": "8a361dfd",
   "metadata": {},
   "source": [
    "**Task 6 (0.75 point).** How many players were born on each day of the week? Find the day of the week with the minimum number of players born."
   ]
  },
  {
   "cell_type": "code",
   "execution_count": 15,
   "id": "c140be4f",
   "metadata": {},
   "outputs": [
    {
     "data": {
      "text/plain": [
       "'Sunday'"
      ]
     },
     "execution_count": 15,
     "metadata": {},
     "output_type": "execute_result"
    }
   ],
   "source": [
    "dow_with_min_players_born = player_data.groupby(player_data['birthday'].dt.day_name()).size().sort_values().keys()[0]\n",
    "dow_with_min_players_born# Your code here"
   ]
  },
  {
   "cell_type": "code",
   "execution_count": 16,
   "id": "fc041623",
   "metadata": {},
   "outputs": [],
   "source": [
    "assert(isinstance(dow_with_min_players_born, str))"
   ]
  },
  {
   "cell_type": "markdown",
   "id": "dc7428be",
   "metadata": {},
   "source": [
    "**Task 7 (0.75 point).** Find a league with the most matches in total. If there are several leagues with the same amount of matches, take the first in the lexical order."
   ]
  },
  {
   "cell_type": "code",
   "execution_count": 17,
   "id": "ff3113ac",
   "metadata": {},
   "outputs": [
    {
     "data": {
      "text/plain": [
       "'England Premier League'"
      ]
     },
     "execution_count": 17,
     "metadata": {},
     "output_type": "execute_result"
    }
   ],
   "source": [
    "league = league_data[['id', 'name']]\n",
    "league.columns = ['league_id', 'league_name']\n",
    "\n",
    "league_most_matches = match_data \\\n",
    "    .merge(league, 'left') \\\n",
    "    .groupby('league_name').size() \\\n",
    "    .reset_index() \\\n",
    "    .sort_values(by=[0, 'league_name'], ascending = [False, True]).iloc[0]['league_name']\n",
    "league_most_matches # Your code here"
   ]
  },
  {
   "cell_type": "code",
   "execution_count": 18,
   "id": "390a265b",
   "metadata": {},
   "outputs": [],
   "source": [
    "assert(isinstance(league_most_matches, str))"
   ]
  },
  {
   "cell_type": "markdown",
   "id": "97199b7d",
   "metadata": {},
   "source": [
    "**Task 8 (1.25 point).** Find a player who participated in the largest number of matches during the whole match history. Assign a `player_name` to the given variable"
   ]
  },
  {
   "cell_type": "code",
   "execution_count": 19,
   "id": "ec31bc69",
   "metadata": {},
   "outputs": [
    {
     "data": {
      "text/plain": [
       "'Steve Mandanda'"
      ]
     },
     "execution_count": 19,
     "metadata": {},
     "output_type": "execute_result"
    }
   ],
   "source": [
    "import re\n",
    "home_player_cols = [c for c in match_data.columns if re.match(r'home_player_\\d\\d?', c)]\n",
    "away_player_cols = [c for c in match_data.columns if re.match(r'away_player_\\d\\d?', c)]\n",
    "player_cols = home_player_cols + away_player_cols\n",
    "\n",
    "max_matches_player_id = match_data.melt(value_vars=player_cols).groupby('value').size().sort_values(ascending=False).keys()[0]\n",
    "\n",
    "max_matches_player = player_data[player_data['player_api_id'] == max_matches_player_id]['player_name'].values[0]\n",
    "max_matches_player# Your code here"
   ]
  },
  {
   "cell_type": "code",
   "execution_count": 20,
   "id": "00ec2e89",
   "metadata": {},
   "outputs": [],
   "source": [
    "assert(isinstance(max_matches_player, str))"
   ]
  },
  {
   "cell_type": "markdown",
   "id": "dbc68bfe",
   "metadata": {},
   "source": [
    "**Task 9 (1.5 point).** List top-5 tuples of most correlated **player's characteristics** in the descending order of the absolute [Pearson's coefficient](https://en.wikipedia.org/wiki/Pearson_correlation_coefficient) value.\n",
    "\n",
    "**Note 1:** Players characteristics are all the columns in `Player_Attributes` table except `[id, player_fifa_api_id, player_api_id, date, preferred_foot, attacking_work_rate, defensive_work_rate]`). <br>\n",
    "**Note 2:** Exclude duplicated pairs from the list. E.g. ('gk_handling', 'gk_reflexes') and ('gk_reflexes', 'gk_handling') are duplicates, leave just one of them in the resulting list.\n",
    "\n",
    "**Hint:** You may use [dataframe.corr()](https://pandas.pydata.org/docs/reference/api/pandas.DataFrame.corr.html) for calculating pairwise Pearson correlation."
   ]
  },
  {
   "cell_type": "code",
   "execution_count": 26,
   "id": "47c1412e",
   "metadata": {},
   "outputs": [
    {
     "data": {
      "text/plain": [
       "[('gk_positioning', 'gk_reflexes'),\n",
       " ('gk_handling', 'gk_reflexes'),\n",
       " ('gk_handling', 'gk_positioning'),\n",
       " ('sliding_tackle', 'standing_tackle'),\n",
       " ('marking', 'standing_tackle')]"
      ]
     },
     "execution_count": 26,
     "metadata": {},
     "output_type": "execute_result"
    }
   ],
   "source": [
    "other_cols = ['id', 'player_fifa_api_adi', 'player_api_adi', 'date', 'preferred_foot', 'attacking_work_rate', 'defensive_work_rate']\n",
    "char_cols = [c for c in player_stats_data if c not in other_cols]\n",
    "corr = player_stats_data[char_cols].corr().abs().unstack().reset_index()\n",
    "corr = corr[corr['level_0'] != corr['level_1']]\n",
    "corr['feature_pair'] = corr.apply(lambda x: (x['level_0'], x['level_1']), axis = 1)\n",
    "corr['feature_pair'] = corr.apply(lambda x: tuple(sorted(x['feature_pair'])), axis=1)\n",
    "top_correlated_features = corr[['feature_pair', 0]].drop_duplicates().sort_values(by=0, ascending=False)[:5]['feature_pair'].values.tolist()\n",
    "top_correlated_features# Your code here"
   ]
  },
  {
   "cell_type": "code",
   "execution_count": null,
   "id": "67acd6bf",
   "metadata": {},
   "outputs": [],
   "source": [
    "assert(len(top_correlated_features) == 5)\n",
    "assert(isinstance(top_correlated_features, list))\n",
    "for i in range(5):\n",
    "    assert(isinstance(top_correlated_features[i], tuple))\n",
    "    assert(isinstance(top_correlated_features[i][0], str))\n",
    "    assert(isinstance(top_correlated_features[i][1], str))"
   ]
  },
  {
   "cell_type": "markdown",
   "id": "7d3d8fd3",
   "metadata": {},
   "source": [
    "**Task 10 (2 points).** Find top-5 most similar players to **Neymar** whose names are given. The similarity is measured as [Euclidean distance](https://en.wikipedia.org/wiki/Euclidean_distance) between vectors of players' characteristics (described in the task above). Put their names in a vector in ascending order by Euclidean distance and sorted by `player_name` if the distance is the same<br>\n",
    "**Note 1:** There are many records for some players in the `Player_Attributes` table. You need to take the freshest data (characteristics with the most recent `date`). <br>\n",
    "**Note 2:** Use pure values of the characteristics even if you are aware of such preprocessing technics as normalization. <br>\n",
    "**Note 3:** Please avoid using any built-in methods for calculating the Euclidean distance between vectors, think about implementing your own."
   ]
  },
  {
   "cell_type": "code",
   "execution_count": 39,
   "id": "fac5a571",
   "metadata": {},
   "outputs": [
    {
     "data": {
      "text/plain": [
       "['Rivaldo', 'Michihirio Yasuda', 'Joao Guilherme', 'Hulk', 'Edivaldo Rojas']"
      ]
     },
     "execution_count": 39,
     "metadata": {},
     "output_type": "execute_result"
    }
   ],
   "source": [
    "import numpy as np\n",
    "players_extended = player_stats_data.merge(player_data[['player_api_id', 'player_name']], 'inner', 'player_api_id') \\\n",
    "    .sort_values('date').drop_duplicates(['player_api_id'], keep='last')\n",
    "\n",
    "name = 'Neymar'\n",
    "neymar_vector = players_extended[players_extended['player_name'] == name][char_cols].values[0]\n",
    "player_vector = players_extended[char_cols].values\n",
    "players_extended['neymar_similar'] = np.sqrt(np.sum((player_vector - neymar_vector)**2, axis = 1))\n",
    "\n",
    "neymar_similarities = players_extended \\\n",
    "    .sort_values(by=['neymar_similar', 'player_name'], ascending = True)['player_name'][1:6].values.tolist()\n",
    "neymar_similarities# Your code here"
   ]
  },
  {
   "cell_type": "code",
   "execution_count": 41,
   "id": "ddb1876a",
   "metadata": {},
   "outputs": [],
   "source": [
    "assert(len(neymar_similarities) == 5)\n",
    "assert(isinstance(neymar_similarities, list))\n",
    "for i in range(5):\n",
    "    assert(isinstance(neymar_similarities[i], str))"
   ]
  },
  {
   "cell_type": "markdown",
   "id": "a3a7f878",
   "metadata": {},
   "source": [
    "**Task 11 (1 point).** Calculate the number of home matches played by the **Borussia Dortmund** team in **Germany 1. Bundesliga** in season **2008/2009**"
   ]
  },
  {
   "cell_type": "code",
   "execution_count": 42,
   "id": "bdf5a267",
   "metadata": {},
   "outputs": [
    {
     "data": {
      "text/plain": [
       "17"
      ]
     },
     "execution_count": 42,
     "metadata": {},
     "output_type": "execute_result"
    }
   ],
   "source": [
    "league = league_data[['id', 'name']]\n",
    "league.columns = ['league_id', 'league_name']\n",
    "match_league = match_data.merge(league, on=['league_id'])\n",
    "\n",
    "home_teams = team_data[['team_api_id', 'team_long_name']].rename(columns={'team_api_id': 'home_team_api_id', 'team_long_name': 'home_team_name'})\n",
    "away_teams = team_data[['team_api_id', 'team_long_name']].rename(columns={'team_api_id': 'away_team_api_id', 'team_long_name': 'away_team_name'})\n",
    "match_team_league = match_league.merge(home_teams, 'left', ['home_team_api_id']).merge(away_teams, 'left', ['away_team_api_id'])\n",
    "\n",
    "borussia_bundesliga_2008_2009_matches = match_team_league[(match_team_league['league_name'] == 'Germany 1. Bundesliga')&(match_team_league['season'] == '2008/2009')&(match_team_league['home_team_name'] == 'Borussia Dortmund')].shape[0]\n",
    "borussia_bundesliga_2008_2009_matches# Your code here"
   ]
  },
  {
   "cell_type": "code",
   "execution_count": 43,
   "id": "488fdd4c",
   "metadata": {},
   "outputs": [],
   "source": [
    "assert(isinstance(borussia_bundesliga_2008_2009_matches, int))"
   ]
  },
  {
   "cell_type": "markdown",
   "id": "69dca9a5",
   "metadata": {},
   "source": [
    "**Task 12 (1 point).** Find a team having the most matches (both home and away!) in the **Germany 1. Bundesliga** in **2008/2009** season. Return number of matches."
   ]
  },
  {
   "cell_type": "code",
   "execution_count": 46,
   "id": "9969ba5c",
   "metadata": {},
   "outputs": [
    {
     "data": {
      "text/plain": [
       "34"
      ]
     },
     "execution_count": 46,
     "metadata": {},
     "output_type": "execute_result"
    }
   ],
   "source": [
    "match_team_target_league_season = match_team_league[(match_team_league['league_name'] == 'Germany 1. Bundesliga') & (match_team_league['season'] == '2008/2009')]\n",
    "\n",
    "team_most_matches_bundesliga_2008_2009 = match_team_target_league_season.groupby('home_team_name').size().add(match_team_target_league_season.groupby('away_team_name').size()).sort_values(ascending = False)[0].item()\n",
    "team_most_matches_bundesliga_2008_2009# Your code here"
   ]
  },
  {
   "cell_type": "code",
   "execution_count": 47,
   "id": "ef3b8fa2",
   "metadata": {},
   "outputs": [],
   "source": [
    "assert(isinstance(team_most_matches_bundesliga_2008_2009, int))"
   ]
  },
  {
   "cell_type": "markdown",
   "id": "2f3c65aa",
   "metadata": {},
   "source": [
    "**Task 13 (1 point).** Count total number of **Arsenal** matches (both home and away!) in the **2015/2016** season which they have won. <br><br>\n",
    "**Note:** Winning a game means scoring **more** goals than an opponent."
   ]
  },
  {
   "cell_type": "code",
   "execution_count": 50,
   "id": "52456f34",
   "metadata": {},
   "outputs": [
    {
     "data": {
      "text/plain": [
       "20"
      ]
     },
     "execution_count": 50,
     "metadata": {},
     "output_type": "execute_result"
    }
   ],
   "source": [
    "def team_won(row):\n",
    "    if row['home_team_goal']>row['away_team_goal']:\n",
    "        return row['home_team_name']\n",
    "    elif row['home_team_goal']<row['away_team_goal']:\n",
    "        return row['away_team_name']\n",
    "    else:\n",
    "        return None\n",
    "match_team_league['team_won'] = match_team_league.apply(lambda x:team_won(x), axis=1)\n",
    "\n",
    "arsenal_won_matches_2015_2016 = match_team_league[(match_team_league['team_won'] == 'Arsenal') & (match_team_league['season'] == '2015/2016')].shape[0]\n",
    "arsenal_won_matches_2015_2016# Your code here"
   ]
  },
  {
   "cell_type": "code",
   "execution_count": null,
   "id": "214d9689",
   "metadata": {},
   "outputs": [],
   "source": [
    "assert(isinstance(arsenal_won_matches_2015_2016, int))"
   ]
  },
  {
   "cell_type": "markdown",
   "id": "d70d5b23",
   "metadata": {},
   "source": [
    "**Task 14 (2 points).** Find a team with the highest win rate in the **2015/2016** season. Win rate means won matches / all matches. If there are several teams with the highest win rate return the first by name in lexical order"
   ]
  },
  {
   "cell_type": "code",
   "execution_count": 55,
   "id": "b1aa7db0",
   "metadata": {},
   "outputs": [
    {
     "data": {
      "text/plain": [
       "'SL Benfica'"
      ]
     },
     "execution_count": 55,
     "metadata": {},
     "output_type": "execute_result"
    }
   ],
   "source": [
    "target_matches = match_team_league[match_team_league['season'] =='2015/2016']\n",
    "team_total_plays = target_matches.groupby('home_team_name').size().add(target_matches.groupby('away_team_name').size()).to_frame()\n",
    "\n",
    "team_total_plays.columns = ['total_matches']\n",
    "team_total_plays.index.names = ['team_name']\n",
    "\n",
    "team_won_playes = target_matches.groupby('team_won').size().to_frame()\n",
    "team_won_playes.columns = ['won_matches']\n",
    "\n",
    "matches_won_total = team_total_plays.join(team_won_playes)\n",
    "matches_won_total['win_rate'] = matches_won_total['won_matches'] / matches_won_total['total_matches']\n",
    "\n",
    "team_highest_winrate_2015_2016 = matches_won_total.sort_values(['win_rate', 'team_name'], ascending = [False, True])[:1].index[0]\n",
    "team_highest_winrate_2015_2016# Your code here"
   ]
  },
  {
   "cell_type": "code",
   "execution_count": null,
   "id": "b4cc8e46",
   "metadata": {},
   "outputs": [],
   "source": [
    "assert(isinstance(team_highest_winrate_2015_2016, str))"
   ]
  },
  {
   "cell_type": "markdown",
   "id": "f7f3b4f5",
   "metadata": {},
   "source": [
    "**Task 15 (2 points).** Determine the team with the maximum days' gap between matches in **England Premier League 2010/2011 season**. Return number of days in that gap. <br>\n",
    "**Note**: a *gap* means the number of days between two consecutive matches of the same team."
   ]
  },
  {
   "cell_type": "code",
   "execution_count": 57,
   "id": "a4c33e5f",
   "metadata": {},
   "outputs": [
    {
     "data": {
      "text/plain": [
       "Timedelta('546 days 00:00:00')"
      ]
     },
     "execution_count": 57,
     "metadata": {},
     "output_type": "execute_result"
    }
   ],
   "source": [
    "match_team_league['date'] = pd.to_datetime(match_team_league['date'])\n",
    "\n",
    "\n",
    "\n",
    "highest_gap_england_2010_2011"
   ]
  },
  {
   "cell_type": "code",
   "execution_count": null,
   "id": "5f7aa84e",
   "metadata": {},
   "outputs": [],
   "source": [
    "assert(isinstance(highest_gap_england_2010_2011, int))"
   ]
  },
  {
   "cell_type": "markdown",
   "id": "acecc77f",
   "metadata": {},
   "source": [
    "### Warning! Do not change anything in the area below"
   ]
  },
  {
   "cell_type": "code",
   "execution_count": null,
   "id": "94c3b9be",
   "metadata": {},
   "outputs": [],
   "source": [
    "with open('student_answers.txt', 'w') as file:\n",
    "    file.write(f\"{players_180_190}\\n\")\n",
    "    file.write(f\"{players_1980}\\n\")\n",
    "    file.write(f\"{highest_players}\\n\")\n",
    "    file.write(f\"{years_born_players}\\n\")\n",
    "    file.write(f\"{round(adriano_mean, 3)} {round(adriano_std, 3)}\\n\")\n",
    "    file.write(f\"{dow_with_min_players_born}\\n\")\n",
    "    file.write(f\"{league_most_matches}\\n\")\n",
    "    file.write(f\"{max_matches_player}\\n\")\n",
    "    file.write(f\"{';'.join(['%s,%s' % tup for tup in top_correlated_features])};\\n\")\n",
    "    file.write(f\"{neymar_similarities}\\n\")\n",
    "    file.write(f\"{borussia_bundesliga_2008_2009_matches}\\n\")\n",
    "    file.write(f\"{team_most_matches_bundesliga_2008_2009}\\n\")\n",
    "    file.write(f\"{arsenal_won_matches_2015_2016}\\n\")\n",
    "    file.write(f\"{team_highest_winrate_2015_2016}\\n\")\n",
    "    file.write(f\"{highest_gap_england_2010_2011}\\n\")"
   ]
  }
 ],
 "metadata": {
  "kernelspec": {
   "display_name": "Python 3 (ipykernel)",
   "language": "python",
   "name": "python3"
  },
  "language_info": {
   "codemirror_mode": {
    "name": "ipython",
    "version": 3
   },
   "file_extension": ".py",
   "mimetype": "text/x-python",
   "name": "python",
   "nbconvert_exporter": "python",
   "pygments_lexer": "ipython3",
   "version": "3.9.7"
  }
 },
 "nbformat": 4,
 "nbformat_minor": 5
}
