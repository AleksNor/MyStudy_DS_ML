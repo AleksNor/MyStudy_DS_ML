{
 "cells": [
  {
   "cell_type": "code",
   "execution_count": 3,
   "id": "b489cb9e",
   "metadata": {},
   "outputs": [],
   "source": [
    "import numpy as np\n",
    "import pandas as pd\n",
    "import seaborn as sns\n",
    "import matplotlib.pyplot as plt\n"
   ]
  },
  {
   "cell_type": "code",
   "execution_count": 4,
   "id": "c585853d",
   "metadata": {},
   "outputs": [
    {
     "data": {
      "text/plain": [
       "(100000, 12)"
      ]
     },
     "execution_count": 4,
     "metadata": {},
     "output_type": "execute_result"
    }
   ],
   "source": [
    "df = pd.read_csv('train.csv')\n",
    "df.shape"
   ]
  },
  {
   "cell_type": "markdown",
   "id": "cd628e05",
   "metadata": {},
   "source": [
    "Данные по размеру совпадают с описанием данных.\n",
    "Посмотрим тип данных"
   ]
  },
  {
   "cell_type": "code",
   "execution_count": 5,
   "id": "f93c0a41",
   "metadata": {},
   "outputs": [
    {
     "data": {
      "text/plain": [
       "PassengerId      int64\n",
       "Survived         int64\n",
       "Pclass           int64\n",
       "Name            object\n",
       "Sex             object\n",
       "Age            float64\n",
       "SibSp            int64\n",
       "Parch            int64\n",
       "Ticket          object\n",
       "Fare           float64\n",
       "Cabin           object\n",
       "Embarked        object\n",
       "dtype: object"
      ]
     },
     "execution_count": 5,
     "metadata": {},
     "output_type": "execute_result"
    }
   ],
   "source": [
    "df.dtypes"
   ]
  },
  {
   "cell_type": "code",
   "execution_count": 6,
   "id": "0672a71c",
   "metadata": {},
   "outputs": [
    {
     "name": "stdout",
     "output_type": "stream",
     "text": [
      "<class 'pandas.core.frame.DataFrame'>\n",
      "RangeIndex: 100000 entries, 0 to 99999\n",
      "Data columns (total 12 columns):\n",
      " #   Column       Non-Null Count   Dtype  \n",
      "---  ------       --------------   -----  \n",
      " 0   PassengerId  100000 non-null  int64  \n",
      " 1   Survived     100000 non-null  int64  \n",
      " 2   Pclass       100000 non-null  int64  \n",
      " 3   Name         100000 non-null  object \n",
      " 4   Sex          100000 non-null  object \n",
      " 5   Age          96708 non-null   float64\n",
      " 6   SibSp        100000 non-null  int64  \n",
      " 7   Parch        100000 non-null  int64  \n",
      " 8   Ticket       95377 non-null   object \n",
      " 9   Fare         99866 non-null   float64\n",
      " 10  Cabin        32134 non-null   object \n",
      " 11  Embarked     99750 non-null   object \n",
      "dtypes: float64(2), int64(5), object(5)\n",
      "memory usage: 9.2+ MB\n"
     ]
    }
   ],
   "source": [
    "df.info()"
   ]
  },
  {
   "cell_type": "markdown",
   "id": "9799d1a1",
   "metadata": {},
   "source": [
    "Есть ли дубликаты по ID пассажира"
   ]
  },
  {
   "cell_type": "code",
   "execution_count": 7,
   "id": "8dccb53e",
   "metadata": {},
   "outputs": [
    {
     "data": {
      "text/plain": [
       "0        1\n",
       "66650    1\n",
       "66672    1\n",
       "66671    1\n",
       "66670    1\n",
       "        ..\n",
       "33331    1\n",
       "33330    1\n",
       "33329    1\n",
       "33328    1\n",
       "99999    1\n",
       "Name: PassengerId, Length: 100000, dtype: int64"
      ]
     },
     "execution_count": 7,
     "metadata": {},
     "output_type": "execute_result"
    }
   ],
   "source": [
    "df.PassengerId.value_counts()"
   ]
  },
  {
   "cell_type": "markdown",
   "id": "54304e28",
   "metadata": {},
   "source": [
    "Видим, что дубликатов нет, все значения уникальны.\n",
    "Есть ли пропущенные значения и сколько их"
   ]
  },
  {
   "cell_type": "code",
   "execution_count": 8,
   "id": "283c6e1a",
   "metadata": {},
   "outputs": [
    {
     "data": {
      "text/plain": [
       "PassengerId    0.00000\n",
       "Survived       0.00000\n",
       "Pclass         0.00000\n",
       "Name           0.00000\n",
       "Sex            0.00000\n",
       "Age            0.03292\n",
       "SibSp          0.00000\n",
       "Parch          0.00000\n",
       "Ticket         0.04623\n",
       "Fare           0.00134\n",
       "Cabin          0.67866\n",
       "Embarked       0.00250\n",
       "dtype: float64"
      ]
     },
     "execution_count": 8,
     "metadata": {},
     "output_type": "execute_result"
    }
   ],
   "source": [
    "a = df.isna().sum()/100000\n",
    "a"
   ]
  },
  {
   "cell_type": "markdown",
   "id": "438aab39",
   "metadata": {},
   "source": [
    "Базовые статистики"
   ]
  },
  {
   "cell_type": "code",
   "execution_count": 9,
   "id": "4755a3ea",
   "metadata": {},
   "outputs": [
    {
     "data": {
      "text/html": [
       "<div>\n",
       "<style scoped>\n",
       "    .dataframe tbody tr th:only-of-type {\n",
       "        vertical-align: middle;\n",
       "    }\n",
       "\n",
       "    .dataframe tbody tr th {\n",
       "        vertical-align: top;\n",
       "    }\n",
       "\n",
       "    .dataframe thead th {\n",
       "        text-align: right;\n",
       "    }\n",
       "</style>\n",
       "<table border=\"1\" class=\"dataframe\">\n",
       "  <thead>\n",
       "    <tr style=\"text-align: right;\">\n",
       "      <th></th>\n",
       "      <th>PassengerId</th>\n",
       "      <th>Survived</th>\n",
       "      <th>Pclass</th>\n",
       "      <th>Age</th>\n",
       "      <th>SibSp</th>\n",
       "      <th>Parch</th>\n",
       "      <th>Fare</th>\n",
       "    </tr>\n",
       "  </thead>\n",
       "  <tbody>\n",
       "    <tr>\n",
       "      <th>count</th>\n",
       "      <td>100000.000000</td>\n",
       "      <td>100000.000000</td>\n",
       "      <td>100000.000000</td>\n",
       "      <td>96708.000000</td>\n",
       "      <td>100000.000000</td>\n",
       "      <td>100000.000000</td>\n",
       "      <td>99866.00000</td>\n",
       "    </tr>\n",
       "    <tr>\n",
       "      <th>mean</th>\n",
       "      <td>49999.500000</td>\n",
       "      <td>0.427740</td>\n",
       "      <td>2.106910</td>\n",
       "      <td>38.355472</td>\n",
       "      <td>0.397690</td>\n",
       "      <td>0.454560</td>\n",
       "      <td>43.92933</td>\n",
       "    </tr>\n",
       "    <tr>\n",
       "      <th>std</th>\n",
       "      <td>28867.657797</td>\n",
       "      <td>0.494753</td>\n",
       "      <td>0.837727</td>\n",
       "      <td>18.313556</td>\n",
       "      <td>0.862566</td>\n",
       "      <td>0.950076</td>\n",
       "      <td>69.58882</td>\n",
       "    </tr>\n",
       "    <tr>\n",
       "      <th>min</th>\n",
       "      <td>0.000000</td>\n",
       "      <td>0.000000</td>\n",
       "      <td>1.000000</td>\n",
       "      <td>0.080000</td>\n",
       "      <td>0.000000</td>\n",
       "      <td>0.000000</td>\n",
       "      <td>0.68000</td>\n",
       "    </tr>\n",
       "    <tr>\n",
       "      <th>25%</th>\n",
       "      <td>24999.750000</td>\n",
       "      <td>0.000000</td>\n",
       "      <td>1.000000</td>\n",
       "      <td>25.000000</td>\n",
       "      <td>0.000000</td>\n",
       "      <td>0.000000</td>\n",
       "      <td>10.04000</td>\n",
       "    </tr>\n",
       "    <tr>\n",
       "      <th>50%</th>\n",
       "      <td>49999.500000</td>\n",
       "      <td>0.000000</td>\n",
       "      <td>2.000000</td>\n",
       "      <td>39.000000</td>\n",
       "      <td>0.000000</td>\n",
       "      <td>0.000000</td>\n",
       "      <td>24.46000</td>\n",
       "    </tr>\n",
       "    <tr>\n",
       "      <th>75%</th>\n",
       "      <td>74999.250000</td>\n",
       "      <td>1.000000</td>\n",
       "      <td>3.000000</td>\n",
       "      <td>53.000000</td>\n",
       "      <td>1.000000</td>\n",
       "      <td>1.000000</td>\n",
       "      <td>33.50000</td>\n",
       "    </tr>\n",
       "    <tr>\n",
       "      <th>max</th>\n",
       "      <td>99999.000000</td>\n",
       "      <td>1.000000</td>\n",
       "      <td>3.000000</td>\n",
       "      <td>87.000000</td>\n",
       "      <td>8.000000</td>\n",
       "      <td>9.000000</td>\n",
       "      <td>744.66000</td>\n",
       "    </tr>\n",
       "  </tbody>\n",
       "</table>\n",
       "</div>"
      ],
      "text/plain": [
       "         PassengerId       Survived         Pclass           Age  \\\n",
       "count  100000.000000  100000.000000  100000.000000  96708.000000   \n",
       "mean    49999.500000       0.427740       2.106910     38.355472   \n",
       "std     28867.657797       0.494753       0.837727     18.313556   \n",
       "min         0.000000       0.000000       1.000000      0.080000   \n",
       "25%     24999.750000       0.000000       1.000000     25.000000   \n",
       "50%     49999.500000       0.000000       2.000000     39.000000   \n",
       "75%     74999.250000       1.000000       3.000000     53.000000   \n",
       "max     99999.000000       1.000000       3.000000     87.000000   \n",
       "\n",
       "               SibSp          Parch         Fare  \n",
       "count  100000.000000  100000.000000  99866.00000  \n",
       "mean        0.397690       0.454560     43.92933  \n",
       "std         0.862566       0.950076     69.58882  \n",
       "min         0.000000       0.000000      0.68000  \n",
       "25%         0.000000       0.000000     10.04000  \n",
       "50%         0.000000       0.000000     24.46000  \n",
       "75%         1.000000       1.000000     33.50000  \n",
       "max         8.000000       9.000000    744.66000  "
      ]
     },
     "execution_count": 9,
     "metadata": {},
     "output_type": "execute_result"
    }
   ],
   "source": [
    "df.describe()"
   ]
  },
  {
   "cell_type": "markdown",
   "id": "52377148",
   "metadata": {},
   "source": [
    "Можем увидеть основные показатели.\n",
    "Далее посмотрим значение основных категориальных переменных"
   ]
  },
  {
   "cell_type": "code",
   "execution_count": 10,
   "id": "dde3e0bb",
   "metadata": {},
   "outputs": [
    {
     "data": {
      "text/plain": [
       "male      56114\n",
       "female    43886\n",
       "Name: Sex, dtype: int64"
      ]
     },
     "execution_count": 10,
     "metadata": {},
     "output_type": "execute_result"
    }
   ],
   "source": [
    "df.Sex.value_counts()"
   ]
  },
  {
   "cell_type": "code",
   "execution_count": 11,
   "id": "0634d98e",
   "metadata": {},
   "outputs": [
    {
     "data": {
      "text/plain": [
       "3    41006\n",
       "1    30315\n",
       "2    28679\n",
       "Name: Pclass, dtype: int64"
      ]
     },
     "execution_count": 11,
     "metadata": {},
     "output_type": "execute_result"
    }
   ],
   "source": [
    "df.Pclass.value_counts()"
   ]
  },
  {
   "cell_type": "code",
   "execution_count": 12,
   "id": "08869976",
   "metadata": {},
   "outputs": [
    {
     "data": {
      "text/plain": [
       "0    73540\n",
       "1    12996\n",
       "2    11236\n",
       "3      983\n",
       "4      446\n",
       "5      331\n",
       "9      264\n",
       "6      204\n",
       "Name: Parch, dtype: int64"
      ]
     },
     "execution_count": 12,
     "metadata": {},
     "output_type": "execute_result"
    }
   ],
   "source": [
    "df.Parch.value_counts()"
   ]
  },
  {
   "cell_type": "code",
   "execution_count": 13,
   "id": "010c411b",
   "metadata": {},
   "outputs": [
    {
     "data": {
      "text/plain": [
       "C19828    6\n",
       "C6906     5\n",
       "C13699    5\n",
       "C14534    5\n",
       "B11110    5\n",
       "         ..\n",
       "A21234    1\n",
       "A4905     1\n",
       "C7208     1\n",
       "A5788     1\n",
       "D17243    1\n",
       "Name: Cabin, Length: 26992, dtype: int64"
      ]
     },
     "execution_count": 13,
     "metadata": {},
     "output_type": "execute_result"
    }
   ],
   "source": [
    "df.Cabin.value_counts()"
   ]
  },
  {
   "cell_type": "code",
   "execution_count": 14,
   "id": "9f85a3bb",
   "metadata": {},
   "outputs": [
    {
     "data": {
      "text/plain": [
       "S    72139\n",
       "C    22187\n",
       "Q     5424\n",
       "Name: Embarked, dtype: int64"
      ]
     },
     "execution_count": 14,
     "metadata": {},
     "output_type": "execute_result"
    }
   ],
   "source": [
    "df.Embarked.value_counts()"
   ]
  },
  {
   "cell_type": "markdown",
   "id": "f4de0bfd",
   "metadata": {},
   "source": [
    "Посмотрим кореляцию переменных"
   ]
  },
  {
   "cell_type": "code",
   "execution_count": 15,
   "id": "6d286128",
   "metadata": {},
   "outputs": [
    {
     "data": {
      "text/plain": [
       "<AxesSubplot:>"
      ]
     },
     "execution_count": 15,
     "metadata": {},
     "output_type": "execute_result"
    },
    {
     "data": {
      "image/png": "[encoded data removed]",
      "text/plain": [
       "<Figure size 432x288 with 2 Axes>"
      ]
     },
     "metadata": {
      "needs_background": "light"
     },
     "output_type": "display_data"
    }
   ],
   "source": [
    "corr_matrix = df.corr()\n",
    "sns.heatmap(corr_matrix, annot=True)"
   ]
  },
  {
   "cell_type": "markdown",
   "id": "46225413",
   "metadata": {},
   "source": [
    "Сколько человек выжило"
   ]
  },
  {
   "cell_type": "code",
   "execution_count": 16,
   "id": "74512225",
   "metadata": {},
   "outputs": [
    {
     "data": {
      "text/plain": [
       "0    57226\n",
       "1    42774\n",
       "Name: Survived, dtype: int64"
      ]
     },
     "execution_count": 16,
     "metadata": {},
     "output_type": "execute_result"
    }
   ],
   "source": [
    "df.Survived.value_counts()"
   ]
  },
  {
   "cell_type": "markdown",
   "id": "b9dc7045",
   "metadata": {},
   "source": [
    "У кого больше шанс выжить? Посмотрим зависимость выживаемости от других параметров(возраст, пол, посадка)"
   ]
  },
  {
   "cell_type": "code",
   "execution_count": 17,
   "id": "6eb0dac1",
   "metadata": {},
   "outputs": [
    {
     "data": {
      "text/plain": [
       "Sex     Survived\n",
       "female  1           31226\n",
       "        0           12660\n",
       "male    0           44566\n",
       "        1           11548\n",
       "Name: Survived, dtype: int64"
      ]
     },
     "execution_count": 17,
     "metadata": {},
     "output_type": "execute_result"
    }
   ],
   "source": [
    "df.groupby('Sex')['Survived'].value_counts()"
   ]
  },
  {
   "cell_type": "code",
   "execution_count": 18,
   "id": "efb26f67",
   "metadata": {},
   "outputs": [
    {
     "data": {
      "text/plain": [
       "Sex\n",
       "female    0.711525\n",
       "male      0.205795\n",
       "Name: Survived, dtype: float64"
      ]
     },
     "execution_count": 18,
     "metadata": {},
     "output_type": "execute_result"
    }
   ],
   "source": [
    "df.groupby('Sex')['Survived'].mean()"
   ]
  },
  {
   "cell_type": "code",
   "execution_count": 19,
   "id": "7110fdea",
   "metadata": {},
   "outputs": [
    {
     "data": {
      "text/plain": [
       "<AxesSubplot:xlabel='Sex', ylabel='count'>"
      ]
     },
     "execution_count": 19,
     "metadata": {},
     "output_type": "execute_result"
    },
    {
     "data": {
      "image/png": "[encoded data removed]",
      "text/plain": [
       "<Figure size 432x288 with 1 Axes>"
      ]
     },
     "metadata": {
      "needs_background": "light"
     },
     "output_type": "display_data"
    }
   ],
   "source": [
    "sns.countplot(x = 'Sex', data = df, hue = 'Survived')"
   ]
  },
  {
   "cell_type": "code",
   "execution_count": 20,
   "id": "93256876",
   "metadata": {},
   "outputs": [
    {
     "data": {
      "text/plain": [
       "Pclass  Survived\n",
       "1       1           17576\n",
       "        0           12739\n",
       "2       1           15057\n",
       "        0           13622\n",
       "3       0           30865\n",
       "        1           10141\n",
       "Name: Survived, dtype: int64"
      ]
     },
     "execution_count": 20,
     "metadata": {},
     "output_type": "execute_result"
    }
   ],
   "source": [
    "df.groupby('Pclass')['Survived'].value_counts()"
   ]
  },
  {
   "cell_type": "code",
   "execution_count": 21,
   "id": "57e5e67b",
   "metadata": {},
   "outputs": [
    {
     "data": {
      "text/plain": [
       "<AxesSubplot:xlabel='Pclass', ylabel='count'>"
      ]
     },
     "execution_count": 21,
     "metadata": {},
     "output_type": "execute_result"
    },
    {
     "data": {
      "image/png": "[encoded data removed]",
      "text/plain": [
       "<Figure size 432x288 with 1 Axes>"
      ]
     },
     "metadata": {
      "needs_background": "light"
     },
     "output_type": "display_data"
    }
   ],
   "source": [
    "sns.countplot(x = 'Pclass', data = df, hue = 'Survived')"
   ]
  },
  {
   "cell_type": "markdown",
   "id": "12d81de3",
   "metadata": {},
   "source": [
    "Как мы видим выживших из третьего класса меньше значительно, чем с первого и второго"
   ]
  },
  {
   "cell_type": "markdown",
   "id": "1f67e94d",
   "metadata": {},
   "source": [
    "Также выживших мужчин намного меньше. На шлюпки сажали сначала женщин, потом мужчин."
   ]
  },
  {
   "cell_type": "code",
   "execution_count": 22,
   "id": "a35c5072",
   "metadata": {},
   "outputs": [
    {
     "data": {
      "text/plain": [
       "<AxesSubplot:xlabel='Age', ylabel='count'>"
      ]
     },
     "execution_count": 22,
     "metadata": {},
     "output_type": "execute_result"
    },
    {
     "data": {
      "image/png": "[encoded data removed]",
      "text/plain": [
       "<Figure size 1008x504 with 1 Axes>"
      ]
     },
     "metadata": {
      "needs_background": "light"
     },
     "output_type": "display_data"
    }
   ],
   "source": [
    "plt.figure(figsize=(14,7))\n",
    "sns.countplot(x = 'Age', data = df, hue = 'Sex')"
   ]
  },
  {
   "cell_type": "markdown",
   "id": "55f6481e",
   "metadata": {},
   "source": [
    "Посмотрим зависимость выживаемости от родственных связей"
   ]
  },
  {
   "cell_type": "code",
   "execution_count": 23,
   "id": "cd3cc92a",
   "metadata": {},
   "outputs": [
    {
     "data": {
      "text/plain": [
       "<AxesSubplot:xlabel='SibSp', ylabel='count'>"
      ]
     },
     "execution_count": 23,
     "metadata": {},
     "output_type": "execute_result"
    },
    {
     "data": {
      "image/png": "[encoded data removed]",
      "text/plain": [
       "<Figure size 432x288 with 1 Axes>"
      ]
     },
     "metadata": {
      "needs_background": "light"
     },
     "output_type": "display_data"
    }
   ],
   "source": [
    "sns.countplot(x = 'SibSp', data = df, hue = 'Survived')"
   ]
  },
  {
   "cell_type": "code",
   "execution_count": 24,
   "id": "af9e7969",
   "metadata": {},
   "outputs": [
    {
     "data": {
      "text/plain": [
       "SibSp  Survived\n",
       "0      0           42017\n",
       "       1           31291\n",
       "1      0           11188\n",
       "       1            8570\n",
       "2      0            2022\n",
       "       1            1681\n",
       "3      0             981\n",
       "       1             654\n",
       "4      0             729\n",
       "       1             439\n",
       "5      0             107\n",
       "       1              25\n",
       "8      0             182\n",
       "       1             114\n",
       "Name: Survived, dtype: int64"
      ]
     },
     "execution_count": 24,
     "metadata": {},
     "output_type": "execute_result"
    }
   ],
   "source": [
    "df.groupby('SibSp')['Survived'].value_counts()"
   ]
  },
  {
   "cell_type": "code",
   "execution_count": 25,
   "id": "4adebf42",
   "metadata": {},
   "outputs": [
    {
     "data": {
      "text/plain": [
       "SibSp\n",
       "0    0.426843\n",
       "1    0.433748\n",
       "2    0.453956\n",
       "3    0.400000\n",
       "4    0.375856\n",
       "5    0.189394\n",
       "8    0.385135\n",
       "Name: Survived, dtype: float64"
      ]
     },
     "execution_count": 25,
     "metadata": {},
     "output_type": "execute_result"
    }
   ],
   "source": [
    "df.groupby('SibSp')['Survived'].mean()"
   ]
  },
  {
   "cell_type": "code",
   "execution_count": 26,
   "id": "e54974d0",
   "metadata": {},
   "outputs": [
    {
     "data": {
      "text/plain": [
       "Parch  Survived\n",
       "0      0           43741\n",
       "       1           29799\n",
       "1      1            7694\n",
       "       0            5302\n",
       "2      0            6913\n",
       "       1            4323\n",
       "3      0             499\n",
       "       1             484\n",
       "4      0             319\n",
       "       1             127\n",
       "5      1             189\n",
       "       0             142\n",
       "6      0             162\n",
       "       1              42\n",
       "9      0             148\n",
       "       1             116\n",
       "Name: Survived, dtype: int64"
      ]
     },
     "execution_count": 26,
     "metadata": {},
     "output_type": "execute_result"
    }
   ],
   "source": [
    "df.groupby('Parch')['Survived'].value_counts()"
   ]
  },
  {
   "cell_type": "code",
   "execution_count": 27,
   "id": "6dfeb7cf",
   "metadata": {},
   "outputs": [
    {
     "data": {
      "text/plain": [
       "Parch\n",
       "0    0.405208\n",
       "1    0.592028\n",
       "2    0.384745\n",
       "3    0.492370\n",
       "4    0.284753\n",
       "5    0.570997\n",
       "6    0.205882\n",
       "9    0.439394\n",
       "Name: Survived, dtype: float64"
      ]
     },
     "execution_count": 27,
     "metadata": {},
     "output_type": "execute_result"
    }
   ],
   "source": [
    "df.groupby('Parch')['Survived'].mean()"
   ]
  },
  {
   "cell_type": "code",
   "execution_count": 28,
   "id": "932f1a10",
   "metadata": {},
   "outputs": [
    {
     "data": {
      "text/plain": [
       "<AxesSubplot:xlabel='Parch', ylabel='count'>"
      ]
     },
     "execution_count": 28,
     "metadata": {},
     "output_type": "execute_result"
    },
    {
     "data": {
      "image/png": "[encoded data removed]",
      "text/plain": [
       "<Figure size 432x288 with 1 Axes>"
      ]
     },
     "metadata": {
      "needs_background": "light"
     },
     "output_type": "display_data"
    }
   ],
   "source": [
    "sns.countplot(x = 'Parch', data = df, hue = 'Survived')"
   ]
  },
  {
   "cell_type": "code",
   "execution_count": 29,
   "id": "14a76958",
   "metadata": {},
   "outputs": [
    {
     "data": {
      "text/plain": [
       "Parch\n",
       "0    0.246410\n",
       "1    0.813635\n",
       "2    0.879227\n",
       "3    0.663276\n",
       "4    0.338565\n",
       "5    0.456193\n",
       "6    0.446078\n",
       "9    0.568182\n",
       "Name: SibSp, dtype: float64"
      ]
     },
     "execution_count": 29,
     "metadata": {},
     "output_type": "execute_result"
    }
   ],
   "source": [
    "df.groupby('Parch')['SibSp'].mean()"
   ]
  },
  {
   "cell_type": "code",
   "execution_count": 30,
   "id": "f9db37ad",
   "metadata": {},
   "outputs": [
    {
     "data": {
      "text/plain": [
       "Pclass\n",
       "1    92.653113\n",
       "2    25.756003\n",
       "3    20.618226\n",
       "Name: Fare, dtype: float64"
      ]
     },
     "execution_count": 30,
     "metadata": {},
     "output_type": "execute_result"
    }
   ],
   "source": [
    "df.groupby('Pclass')['Fare'].mean()"
   ]
  },
  {
   "cell_type": "code",
   "execution_count": 31,
   "id": "38063ff9",
   "metadata": {},
   "outputs": [
    {
     "data": {
      "text/plain": [
       "<AxesSubplot:xlabel='Embarked', ylabel='count'>"
      ]
     },
     "execution_count": 31,
     "metadata": {},
     "output_type": "execute_result"
    },
    {
     "data": {
      "image/png": "[encoded data removed]",
      "text/plain": [
       "<Figure size 432x288 with 1 Axes>"
      ]
     },
     "metadata": {
      "needs_background": "light"
     },
     "output_type": "display_data"
    }
   ],
   "source": [
    "sns.countplot(x = 'Embarked', data = df, hue = 'Survived')"
   ]
  },
  {
   "cell_type": "code",
   "execution_count": 32,
   "id": "8e1af9b2",
   "metadata": {},
   "outputs": [
    {
     "data": {
      "text/plain": [
       "Embarked\n",
       "C    71.549073\n",
       "Q    73.385148\n",
       "S    33.200008\n",
       "Name: Fare, dtype: float64"
      ]
     },
     "execution_count": 32,
     "metadata": {},
     "output_type": "execute_result"
    }
   ],
   "source": [
    "df.groupby('Embarked')['Fare'].mean()"
   ]
  },
  {
   "cell_type": "markdown",
   "id": "52bd660d",
   "metadata": {},
   "source": [
    "Сделав первичный анализ данного DataFrame выявил следующее:\n",
    " - Вероятность выживания женщин намного выше, чем у мужчин\n",
    " - Вероятность выживания у пассажиров первого и второго класса также была выше, чем у пассажиров третьего класса"
   ]
  },
  {
   "cell_type": "code",
   "execution_count": null,
   "id": "b2101a62",
   "metadata": {},
   "outputs": [],
   "source": []
  }
 ],
 "metadata": {
  "kernelspec": {
   "display_name": "Python 3 (ipykernel)",
   "language": "python",
   "name": "python3"
  },
  "language_info": {
   "codemirror_mode": {
    "name": "ipython",
    "version": 3
   },
   "file_extension": ".py",
   "mimetype": "text/x-python",
   "name": "python",
   "nbconvert_exporter": "python",
   "pygments_lexer": "ipython3",
   "version": "3.9.7"
  },
  "toc": {
   "base_numbering": 1,
   "nav_menu": {},
   "number_sections": true,
   "sideBar": true,
   "skip_h1_title": false,
   "title_cell": "Table of Contents",
   "title_sidebar": "Contents",
   "toc_cell": false,
   "toc_position": {},
   "toc_section_display": true,
   "toc_window_display": false
  }
 },
 "nbformat": 4,
 "nbformat_minor": 5
}
